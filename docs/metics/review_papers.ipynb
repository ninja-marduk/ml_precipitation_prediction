# Notebook: Análisis de Promedios de RMSE y MAE por Modelo Híbrido

import pandas as pd
import matplotlib.pyplot as plt

# Paso 1: Cargar el archivo CSV generado previamente
df = pd.read_csv("hybrid_model_avg_rmse_mae.csv", index_col=0)

# Paso 2: Ordenar por RMSE y MAE para visualización
df_rmse_sorted = df.sort_values(by="RMSE")
df_mae_sorted = df.sort_values(by="MAE")

# Paso 3: Crear la figura y los ejes para ambas métricas
fig, (ax1, ax2) = plt.subplots(ncols=2, figsize=(14, 10), sharey=True)
fig.suptitle("Performance of Hybrid Models", fontsize=18, fontweight='bold')

# Gráfico de barras horizontales para RMSE
ax1.barh(df_rmse_sorted.index, df_rmse_sorted["RMSE"], color="yellowgreen")
ax1.set_title("Average RMSE by Hybrid Model", fontsize=14)
ax1.set_xlabel("RMSE")
ax1.set_ylabel("Hybrid Model")

# Gráfico de barras horizontales para MAE
ax2.barh(df_mae_sorted.index, df_mae_sorted["MAE"], color="mediumaquamarine")
ax2.set_title("Average MAE by Hybrid Model", fontsize=14)
ax2.set_xlabel("MAE")

# Ajustar diseño
plt.tight_layout(rect=[0, 0.03, 1, 0.95])
plt.show()

