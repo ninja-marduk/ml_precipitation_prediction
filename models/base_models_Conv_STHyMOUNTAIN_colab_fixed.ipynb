{
  "cells": [
    {
      "cell_type": "raw",
      "metadata": {
        "vscode": {
          "languageId": "raw"
        }
      },
      "source": [
        "# 🌧️ Modelos Espaciales Conv-RNN para Predicción de Precipitación\n",
        "\n",
        "Este notebook implementa modelos ConvLSTM, ConvGRU y ConvRNN para predicción espacial de precipitación.\n",
        "\n",
        "## 📋 Instrucciones para Google Colab:\n",
        "1. Ejecuta primero la celda de instalación de dependencias\n",
        "2. Si hay errores con cartopy, reinicia el runtime y ejecuta de nuevo\n",
        "3. Monta tu Google Drive cuando se solicite\n"
      ]
    }
  ],
  "metadata": {
    "language_info": {
      "name": "python"
    }
  },
  "nbformat": 4,
  "nbformat_minor": 2
}
