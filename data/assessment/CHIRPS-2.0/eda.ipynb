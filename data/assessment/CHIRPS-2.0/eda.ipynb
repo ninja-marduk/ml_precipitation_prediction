{
 "cells": [
  {
   "cell_type": "code",
   "execution_count": null,
   "id": "f6409e63-399c-4b77-9f6c-6f2f1647aa15",
   "metadata": {},
   "outputs": [],
   "source": [
    "import xarray as xr\n",
    "import pandas as pd\n",
    "import seaborn as sns\n",
    "import matplotlib.pyplot as plt\n",
    "import os\n",
    "\n",
    "# Define the directory and file pattern\n",
    "directory = '/Users/riperez/Conda/anaconda3/doc/precipitation/CHIRPS-2.0/'\n",
    "file_pattern = 'chirps-v2.0.20*.days_p05.nc'\n",
    "\n",
    "# Load and concatenate all NetCDF files\n",
    "file_paths = [os.path.join(directory, f) for f in os.listdir(directory) if f.startswith('chirps-v2.0.20') and f.endswith('.days_p05.nc')]\n",
    "\n",
    "# Check if any files were found\n",
    "if not file_paths:\n",
    "    raise FileNotFoundError(f\"No files matching the pattern '{file_pattern}' were found in the directory '{directory}'.\")\n",
    "\n",
    "datasets = [xr.open_dataset(fp) for fp in file_paths]\n",
    "\n",
    "# Handle the case where there is only one dataset\n",
    "if len(datasets) == 1:\n",
    "    data = datasets[0]\n",
    "else:\n",
    "    data = xr.concat(datasets, dim='time')\n",
    "\n",
    "# Display basic information about the dataset\n",
    "print(\"Dataset Info:\")\n",
    "print(data)"
   ]
  },
  {
   "cell_type": "code",
   "execution_count": null,
   "id": "c97321aa-ec13-4535-84da-a9ef57c0ca28",
   "metadata": {},
   "outputs": [],
   "source": [
    "# Convert to a Pandas DataFrame for easier analysis\n",
    "df = data.to_dataframe().reset_index()\n",
    "\n",
    "# Display basic information about the DataFrame\n",
    "print(\"\\nDataFrame Info:\")\n",
    "print(df.info())\n",
    "\n",
    "print(\"\\nDataFrame Head:\")\n",
    "print(df.head())\n",
    "\n",
    "print(\"\\nSummary Statistics:\")\n",
    "print(df.describe())\n",
    "\n",
    "# Check for missing values\n",
    "print(\"\\nMissing Values:\")\n",
    "print(df.isnull().sum())\n",
    "\n",
    "# Visualize missing values\n",
    "plt.figure(figsize=(10, 6))\n",
    "sns.heatmap(df.isnull(), cbar=False, cmap='viridis')\n",
    "plt.title(\"Missing Values Heatmap\")\n",
    "plt.show()"
   ]
  },
  {
   "cell_type": "code",
   "execution_count": null,
   "id": "fd12803a-d7c6-423a-92bd-6735ab86ece8",
   "metadata": {},
   "outputs": [],
   "source": [
    "# Correlation matrix\n",
    "numerical_columns = df.select_dtypes(include=['float64', 'int64']).columns\n",
    "plt.figure(figsize=(10, 8))\n",
    "correlation_matrix = df[numerical_columns].corr()\n",
    "sns.heatmap(correlation_matrix, annot=True, fmt=\".2f\", cmap='coolwarm')\n",
    "plt.title(\"Correlation Matrix\")\n",
    "plt.show()"
   ]
  },
  {
   "cell_type": "code",
   "execution_count": null,
   "id": "c7f241a3-02be-47c2-b861-1970fc822b09",
   "metadata": {},
   "outputs": [],
   "source": [
    "# Distribution of numerical features\n",
    "for col in numerical_columns:\n",
    "    plt.figure(figsize=(8, 4))\n",
    "    sns.histplot(df[col], kde=True, bins=30)\n",
    "    plt.title(f\"Distribution of {col}\")\n",
    "    plt.xlabel(col)\n",
    "    plt.ylabel(\"Frequency\")\n",
    "    plt.show()"
   ]
  },
  {
   "cell_type": "code",
   "execution_count": null,
   "id": "0d239c08-1f27-4c03-abc0-3369210ae415",
   "metadata": {},
   "outputs": [],
   "source": [
    "# Time series analysis (if applicable)\n",
    "if 'time' in df.columns:\n",
    "    df['time'] = pd.to_datetime(df['time'])\n",
    "    df.set_index('time', inplace=True)\n",
    "    plt.figure(figsize=(12, 6))\n",
    "    df.resample('M').mean().plot()\n",
    "    plt.title(\"Monthly Average Precipitation\")\n",
    "    plt.ylabel(\"Precipitation\")\n",
    "    plt.show()"
   ]
  },
  {
   "cell_type": "code",
   "execution_count": null,
   "id": "b898cbba-d7aa-4158-8b73-a12e82f32acc",
   "metadata": {},
   "outputs": [],
   "source": [
    "# Categorical feature analysis\n",
    "categorical_columns = df.select_dtypes(include=['object']).columns\n",
    "for col in categorical_columns:\n",
    "    plt.figure(figsize=(8, 4))\n",
    "    sns.countplot(df[col], order=df[col].value_counts().index)\n",
    "    plt.title(f\"Count of {col}\")\n",
    "    plt.xlabel(col)\n",
    "    plt.ylabel(\"Count\")\n",
    "    plt.xticks(rotation=45)\n",
    "    plt.show()"
   ]
  },
  {
   "cell_type": "code",
   "execution_count": null,
   "id": "4bfe265f-a5a4-4f06-87c3-cebee846eeb8",
   "metadata": {},
   "outputs": [],
   "source": []
  },
  {
   "cell_type": "code",
   "execution_count": null,
   "id": "1d739fe5-d0cb-451b-bd49-d4efb1242e90",
   "metadata": {},
   "outputs": [],
   "source": []
  }
 ],
 "metadata": {
  "kernelspec": {
   "display_name": "precipitation_prediction",
   "language": "python",
   "name": "python3"
  },
  "language_info": {
   "codemirror_mode": {
    "name": "ipython",
    "version": 3
   },
   "file_extension": ".py",
   "mimetype": "text/x-python",
   "name": "python",
   "nbconvert_exporter": "python",
   "pygments_lexer": "ipython3",
   "version": "3.12.8"
  }
 },
 "nbformat": 4,
 "nbformat_minor": 5
}
